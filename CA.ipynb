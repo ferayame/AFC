{
 "cells": [
  {
   "cell_type": "code",
   "execution_count": 7,
   "metadata": {},
   "outputs": [
    {
     "name": "stdout",
     "output_type": "stream",
     "text": [
      "Original Contingency table:\n",
      "               Blond  Marron  Noir\n",
      "Yeux\\Cheveux                     \n",
      "Vert             50      10     3\n",
      "Bleu             43       8     0\n",
      "Marron            8      66    33\n",
      "Noir              2      44    50\n",
      "\n",
      "Total observations k = 317\n",
      "\n",
      "Frequency table:\n",
      "                Blond  Marron    Noir     fi.\n",
      "Yeux\\Cheveux                                \n",
      "Vert          0.1577  0.0315  0.0095  0.1987\n",
      "Bleu          0.1356  0.0252  0.0000  0.1609\n",
      "Marron        0.0252  0.2082  0.1041  0.3375\n",
      "Noir          0.0063  0.1388  0.1577  0.3028\n",
      "f.j           0.3249  0.4038  0.2713  1.0000\n",
      "\n",
      "Row profile table:\n",
      "                Blond  Marron    Noir     fi.\n",
      "Yeux\\Cheveux                                \n",
      "Vert          0.7937  0.1587  0.0476  0.1987\n",
      "Bleu          0.8431  0.1569  0.0000  0.1609\n",
      "Marron        0.0748  0.6168  0.3084  0.3375\n",
      "Noir          0.0208  0.4583  0.5208  0.3028\n",
      "\n",
      "Column profile table:\n",
      "                Blond  Marron    Noir\n",
      "Yeux\\Cheveux                        \n",
      "Vert          0.4854  0.0781  0.0349\n",
      "Bleu          0.4175  0.0625  0.0000\n",
      "Marron        0.0777  0.5156  0.3837\n",
      "Noir          0.0194  0.3437  0.5814\n",
      "f.j           0.3249  0.4038  0.2713\n",
      "\n",
      "X:\n",
      " [[ 0.3667 -0.1719 -0.1916]\n",
      " [ 0.3647 -0.1558 -0.2087]\n",
      " [-0.2548  0.1948  0.0413]\n",
      " [-0.2935  0.0472  0.2637]]\n",
      "\n",
      "S:\n",
      " [[ 0.4185 -0.1833 -0.2343]\n",
      " [-0.1833  0.094   0.0859]\n",
      " [-0.2343  0.0859  0.1515]]\n",
      "\n",
      "The eigenvalues: [ 6.30521168e-01 -1.64841926e-05  3.34953160e-02]\n",
      "\n",
      "The eigenvectors:\n",
      " [[ 0.81431604 -0.57003957  0.10928984]\n",
      " [-0.35208607 -0.63482595 -0.68777279]\n",
      " [-0.46143773 -0.52158499  0.71765195]]\n",
      "\n",
      "The sorted eigenvalues: [0.63052117 0.03349532]\n",
      "\n",
      "The sorted eigenvectors:\n",
      " [[ 0.814  0.109]\n",
      " [-0.352 -0.688]\n",
      " [-0.461  0.718]]\n",
      "\n",
      "Cik:\n",
      " [[ 0.4475  0.0208]\n",
      " [ 0.4481 -0.0028]\n",
      " [-0.2951 -0.1322]\n",
      " [-0.3773  0.1247]]\n",
      "\n",
      "Cjk:\n",
      " [[ 0.6466  0.02  ]\n",
      " [-0.2796 -0.1259]\n",
      " [-0.3664  0.1313]]\n"
     ]
    },
    {
     "data": {
      "application/vnd.plotly.v1+json": {
       "config": {
        "plotlyServerURL": "https://plot.ly"
       },
       "data": [
        {
         "marker": {
          "color": "blue",
          "size": 10
         },
         "mode": "markers+text",
         "name": "Row Profiles",
         "text": [
          "Vert",
          "Bleu",
          "Marron",
          "Noir"
         ],
         "textposition": "top center",
         "type": "scatter",
         "x": [
          0.4475447580839712,
          0.44813812545649595,
          -0.2951314728336027,
          -0.37730135106035717
         ],
         "y": [
          0.020802612453500603,
          -0.002760957478989024,
          -0.13218616455763196,
          0.12470537612708364
         ]
        },
        {
         "marker": {
          "color": "red",
          "size": 10,
          "symbol": "diamond"
         },
         "mode": "markers+text",
         "name": "Column Profiles",
         "text": [
          "Blond",
          "Marron",
          "Noir"
         ],
         "textposition": "bottom center",
         "type": "scatter",
         "x": [
          0.6466106088045018,
          -0.27957522518821276,
          -0.36640630757556053
         ],
         "y": [
          0.020001925891085185,
          -0.12587428909920337,
          0.13134269034953439
         ]
        }
       ],
       "layout": {
        "height": 1000,
        "hovermode": "closest",
        "shapes": [
         {
          "layer": "below",
          "line": {
           "color": "grey",
           "dash": "dash",
           "width": 1
          },
          "type": "line",
          "x0": -0.7,
          "x1": 0.7,
          "y0": 0,
          "y1": 0
         },
         {
          "layer": "below",
          "line": {
           "color": "black",
           "dash": "dash",
           "width": 1
          },
          "type": "line",
          "x0": 0,
          "x1": 0,
          "y0": -0.3,
          "y1": 0.3
         }
        ],
        "showlegend": true,
        "template": {
         "data": {
          "bar": [
           {
            "error_x": {
             "color": "#2a3f5f"
            },
            "error_y": {
             "color": "#2a3f5f"
            },
            "marker": {
             "line": {
              "color": "#E5ECF6",
              "width": 0.5
             },
             "pattern": {
              "fillmode": "overlay",
              "size": 10,
              "solidity": 0.2
             }
            },
            "type": "bar"
           }
          ],
          "barpolar": [
           {
            "marker": {
             "line": {
              "color": "#E5ECF6",
              "width": 0.5
             },
             "pattern": {
              "fillmode": "overlay",
              "size": 10,
              "solidity": 0.2
             }
            },
            "type": "barpolar"
           }
          ],
          "carpet": [
           {
            "aaxis": {
             "endlinecolor": "#2a3f5f",
             "gridcolor": "white",
             "linecolor": "white",
             "minorgridcolor": "white",
             "startlinecolor": "#2a3f5f"
            },
            "baxis": {
             "endlinecolor": "#2a3f5f",
             "gridcolor": "white",
             "linecolor": "white",
             "minorgridcolor": "white",
             "startlinecolor": "#2a3f5f"
            },
            "type": "carpet"
           }
          ],
          "choropleth": [
           {
            "colorbar": {
             "outlinewidth": 0,
             "ticks": ""
            },
            "type": "choropleth"
           }
          ],
          "contour": [
           {
            "colorbar": {
             "outlinewidth": 0,
             "ticks": ""
            },
            "colorscale": [
             [
              0,
              "#0d0887"
             ],
             [
              0.1111111111111111,
              "#46039f"
             ],
             [
              0.2222222222222222,
              "#7201a8"
             ],
             [
              0.3333333333333333,
              "#9c179e"
             ],
             [
              0.4444444444444444,
              "#bd3786"
             ],
             [
              0.5555555555555556,
              "#d8576b"
             ],
             [
              0.6666666666666666,
              "#ed7953"
             ],
             [
              0.7777777777777778,
              "#fb9f3a"
             ],
             [
              0.8888888888888888,
              "#fdca26"
             ],
             [
              1,
              "#f0f921"
             ]
            ],
            "type": "contour"
           }
          ],
          "contourcarpet": [
           {
            "colorbar": {
             "outlinewidth": 0,
             "ticks": ""
            },
            "type": "contourcarpet"
           }
          ],
          "heatmap": [
           {
            "colorbar": {
             "outlinewidth": 0,
             "ticks": ""
            },
            "colorscale": [
             [
              0,
              "#0d0887"
             ],
             [
              0.1111111111111111,
              "#46039f"
             ],
             [
              0.2222222222222222,
              "#7201a8"
             ],
             [
              0.3333333333333333,
              "#9c179e"
             ],
             [
              0.4444444444444444,
              "#bd3786"
             ],
             [
              0.5555555555555556,
              "#d8576b"
             ],
             [
              0.6666666666666666,
              "#ed7953"
             ],
             [
              0.7777777777777778,
              "#fb9f3a"
             ],
             [
              0.8888888888888888,
              "#fdca26"
             ],
             [
              1,
              "#f0f921"
             ]
            ],
            "type": "heatmap"
           }
          ],
          "heatmapgl": [
           {
            "colorbar": {
             "outlinewidth": 0,
             "ticks": ""
            },
            "colorscale": [
             [
              0,
              "#0d0887"
             ],
             [
              0.1111111111111111,
              "#46039f"
             ],
             [
              0.2222222222222222,
              "#7201a8"
             ],
             [
              0.3333333333333333,
              "#9c179e"
             ],
             [
              0.4444444444444444,
              "#bd3786"
             ],
             [
              0.5555555555555556,
              "#d8576b"
             ],
             [
              0.6666666666666666,
              "#ed7953"
             ],
             [
              0.7777777777777778,
              "#fb9f3a"
             ],
             [
              0.8888888888888888,
              "#fdca26"
             ],
             [
              1,
              "#f0f921"
             ]
            ],
            "type": "heatmapgl"
           }
          ],
          "histogram": [
           {
            "marker": {
             "pattern": {
              "fillmode": "overlay",
              "size": 10,
              "solidity": 0.2
             }
            },
            "type": "histogram"
           }
          ],
          "histogram2d": [
           {
            "colorbar": {
             "outlinewidth": 0,
             "ticks": ""
            },
            "colorscale": [
             [
              0,
              "#0d0887"
             ],
             [
              0.1111111111111111,
              "#46039f"
             ],
             [
              0.2222222222222222,
              "#7201a8"
             ],
             [
              0.3333333333333333,
              "#9c179e"
             ],
             [
              0.4444444444444444,
              "#bd3786"
             ],
             [
              0.5555555555555556,
              "#d8576b"
             ],
             [
              0.6666666666666666,
              "#ed7953"
             ],
             [
              0.7777777777777778,
              "#fb9f3a"
             ],
             [
              0.8888888888888888,
              "#fdca26"
             ],
             [
              1,
              "#f0f921"
             ]
            ],
            "type": "histogram2d"
           }
          ],
          "histogram2dcontour": [
           {
            "colorbar": {
             "outlinewidth": 0,
             "ticks": ""
            },
            "colorscale": [
             [
              0,
              "#0d0887"
             ],
             [
              0.1111111111111111,
              "#46039f"
             ],
             [
              0.2222222222222222,
              "#7201a8"
             ],
             [
              0.3333333333333333,
              "#9c179e"
             ],
             [
              0.4444444444444444,
              "#bd3786"
             ],
             [
              0.5555555555555556,
              "#d8576b"
             ],
             [
              0.6666666666666666,
              "#ed7953"
             ],
             [
              0.7777777777777778,
              "#fb9f3a"
             ],
             [
              0.8888888888888888,
              "#fdca26"
             ],
             [
              1,
              "#f0f921"
             ]
            ],
            "type": "histogram2dcontour"
           }
          ],
          "mesh3d": [
           {
            "colorbar": {
             "outlinewidth": 0,
             "ticks": ""
            },
            "type": "mesh3d"
           }
          ],
          "parcoords": [
           {
            "line": {
             "colorbar": {
              "outlinewidth": 0,
              "ticks": ""
             }
            },
            "type": "parcoords"
           }
          ],
          "pie": [
           {
            "automargin": true,
            "type": "pie"
           }
          ],
          "scatter": [
           {
            "fillpattern": {
             "fillmode": "overlay",
             "size": 10,
             "solidity": 0.2
            },
            "type": "scatter"
           }
          ],
          "scatter3d": [
           {
            "line": {
             "colorbar": {
              "outlinewidth": 0,
              "ticks": ""
             }
            },
            "marker": {
             "colorbar": {
              "outlinewidth": 0,
              "ticks": ""
             }
            },
            "type": "scatter3d"
           }
          ],
          "scattercarpet": [
           {
            "marker": {
             "colorbar": {
              "outlinewidth": 0,
              "ticks": ""
             }
            },
            "type": "scattercarpet"
           }
          ],
          "scattergeo": [
           {
            "marker": {
             "colorbar": {
              "outlinewidth": 0,
              "ticks": ""
             }
            },
            "type": "scattergeo"
           }
          ],
          "scattergl": [
           {
            "marker": {
             "colorbar": {
              "outlinewidth": 0,
              "ticks": ""
             }
            },
            "type": "scattergl"
           }
          ],
          "scattermapbox": [
           {
            "marker": {
             "colorbar": {
              "outlinewidth": 0,
              "ticks": ""
             }
            },
            "type": "scattermapbox"
           }
          ],
          "scatterpolar": [
           {
            "marker": {
             "colorbar": {
              "outlinewidth": 0,
              "ticks": ""
             }
            },
            "type": "scatterpolar"
           }
          ],
          "scatterpolargl": [
           {
            "marker": {
             "colorbar": {
              "outlinewidth": 0,
              "ticks": ""
             }
            },
            "type": "scatterpolargl"
           }
          ],
          "scatterternary": [
           {
            "marker": {
             "colorbar": {
              "outlinewidth": 0,
              "ticks": ""
             }
            },
            "type": "scatterternary"
           }
          ],
          "surface": [
           {
            "colorbar": {
             "outlinewidth": 0,
             "ticks": ""
            },
            "colorscale": [
             [
              0,
              "#0d0887"
             ],
             [
              0.1111111111111111,
              "#46039f"
             ],
             [
              0.2222222222222222,
              "#7201a8"
             ],
             [
              0.3333333333333333,
              "#9c179e"
             ],
             [
              0.4444444444444444,
              "#bd3786"
             ],
             [
              0.5555555555555556,
              "#d8576b"
             ],
             [
              0.6666666666666666,
              "#ed7953"
             ],
             [
              0.7777777777777778,
              "#fb9f3a"
             ],
             [
              0.8888888888888888,
              "#fdca26"
             ],
             [
              1,
              "#f0f921"
             ]
            ],
            "type": "surface"
           }
          ],
          "table": [
           {
            "cells": {
             "fill": {
              "color": "#EBF0F8"
             },
             "line": {
              "color": "white"
             }
            },
            "header": {
             "fill": {
              "color": "#C8D4E3"
             },
             "line": {
              "color": "white"
             }
            },
            "type": "table"
           }
          ]
         },
         "layout": {
          "annotationdefaults": {
           "arrowcolor": "#2a3f5f",
           "arrowhead": 0,
           "arrowwidth": 1
          },
          "autotypenumbers": "strict",
          "coloraxis": {
           "colorbar": {
            "outlinewidth": 0,
            "ticks": ""
           }
          },
          "colorscale": {
           "diverging": [
            [
             0,
             "#8e0152"
            ],
            [
             0.1,
             "#c51b7d"
            ],
            [
             0.2,
             "#de77ae"
            ],
            [
             0.3,
             "#f1b6da"
            ],
            [
             0.4,
             "#fde0ef"
            ],
            [
             0.5,
             "#f7f7f7"
            ],
            [
             0.6,
             "#e6f5d0"
            ],
            [
             0.7,
             "#b8e186"
            ],
            [
             0.8,
             "#7fbc41"
            ],
            [
             0.9,
             "#4d9221"
            ],
            [
             1,
             "#276419"
            ]
           ],
           "sequential": [
            [
             0,
             "#0d0887"
            ],
            [
             0.1111111111111111,
             "#46039f"
            ],
            [
             0.2222222222222222,
             "#7201a8"
            ],
            [
             0.3333333333333333,
             "#9c179e"
            ],
            [
             0.4444444444444444,
             "#bd3786"
            ],
            [
             0.5555555555555556,
             "#d8576b"
            ],
            [
             0.6666666666666666,
             "#ed7953"
            ],
            [
             0.7777777777777778,
             "#fb9f3a"
            ],
            [
             0.8888888888888888,
             "#fdca26"
            ],
            [
             1,
             "#f0f921"
            ]
           ],
           "sequentialminus": [
            [
             0,
             "#0d0887"
            ],
            [
             0.1111111111111111,
             "#46039f"
            ],
            [
             0.2222222222222222,
             "#7201a8"
            ],
            [
             0.3333333333333333,
             "#9c179e"
            ],
            [
             0.4444444444444444,
             "#bd3786"
            ],
            [
             0.5555555555555556,
             "#d8576b"
            ],
            [
             0.6666666666666666,
             "#ed7953"
            ],
            [
             0.7777777777777778,
             "#fb9f3a"
            ],
            [
             0.8888888888888888,
             "#fdca26"
            ],
            [
             1,
             "#f0f921"
            ]
           ]
          },
          "colorway": [
           "#636efa",
           "#EF553B",
           "#00cc96",
           "#ab63fa",
           "#FFA15A",
           "#19d3f3",
           "#FF6692",
           "#B6E880",
           "#FF97FF",
           "#FECB52"
          ],
          "font": {
           "color": "#2a3f5f"
          },
          "geo": {
           "bgcolor": "white",
           "lakecolor": "white",
           "landcolor": "#E5ECF6",
           "showlakes": true,
           "showland": true,
           "subunitcolor": "white"
          },
          "hoverlabel": {
           "align": "left"
          },
          "hovermode": "closest",
          "mapbox": {
           "style": "light"
          },
          "paper_bgcolor": "white",
          "plot_bgcolor": "#E5ECF6",
          "polar": {
           "angularaxis": {
            "gridcolor": "white",
            "linecolor": "white",
            "ticks": ""
           },
           "bgcolor": "#E5ECF6",
           "radialaxis": {
            "gridcolor": "white",
            "linecolor": "white",
            "ticks": ""
           }
          },
          "scene": {
           "xaxis": {
            "backgroundcolor": "#E5ECF6",
            "gridcolor": "white",
            "gridwidth": 2,
            "linecolor": "white",
            "showbackground": true,
            "ticks": "",
            "zerolinecolor": "white"
           },
           "yaxis": {
            "backgroundcolor": "#E5ECF6",
            "gridcolor": "white",
            "gridwidth": 2,
            "linecolor": "white",
            "showbackground": true,
            "ticks": "",
            "zerolinecolor": "white"
           },
           "zaxis": {
            "backgroundcolor": "#E5ECF6",
            "gridcolor": "white",
            "gridwidth": 2,
            "linecolor": "white",
            "showbackground": true,
            "ticks": "",
            "zerolinecolor": "white"
           }
          },
          "shapedefaults": {
           "line": {
            "color": "#2a3f5f"
           }
          },
          "ternary": {
           "aaxis": {
            "gridcolor": "white",
            "linecolor": "white",
            "ticks": ""
           },
           "baxis": {
            "gridcolor": "white",
            "linecolor": "white",
            "ticks": ""
           },
           "bgcolor": "#E5ECF6",
           "caxis": {
            "gridcolor": "white",
            "linecolor": "white",
            "ticks": ""
           }
          },
          "title": {
           "x": 0.05
          },
          "xaxis": {
           "automargin": true,
           "gridcolor": "white",
           "linecolor": "white",
           "ticks": "",
           "title": {
            "standoff": 15
           },
           "zerolinecolor": "white",
           "zerolinewidth": 2
          },
          "yaxis": {
           "automargin": true,
           "gridcolor": "white",
           "linecolor": "white",
           "ticks": "",
           "title": {
            "standoff": 15
           },
           "zerolinecolor": "white",
           "zerolinewidth": 2
          }
         }
        },
        "title": {
         "text": "Correspondence Analysis Biplot",
         "x": 0.5
        },
        "width": 1600,
        "xaxis": {
         "range": [
          -0.7,
          0.7
         ],
         "tickmode": "array",
         "tickvals": [
          -0.8,
          -0.6,
          -0.4,
          -0.2,
          0,
          0.2,
          0.4,
          0.6,
          0.8
         ],
         "title": {
          "text": "Dimension 1"
         },
         "zeroline": true,
         "zerolinecolor": "black",
         "zerolinewidth": 1
        },
        "yaxis": {
         "range": [
          -0.3,
          0.3
         ],
         "title": {
          "text": "Dimension 2"
         },
         "zeroline": true,
         "zerolinecolor": "black",
         "zerolinewidth": 1
        }
       }
      }
     },
     "metadata": {},
     "output_type": "display_data"
    },
    {
     "name": "stdout",
     "output_type": "stream",
     "text": [
      "\n",
      "\n",
      "Original Contingency table:\n",
      "                 Public  Privé  Indépendant\n",
      "Niveau\\Secteur                            \n",
      "Bac                 25     40           10\n",
      "Licence             35     60           20\n",
      "Master              20     30           15\n",
      "\n",
      "Total observations k = 255\n",
      "\n",
      "Frequency table:\n",
      "                 Public   Privé  Indépendant     fi.\n",
      "Niveau\\Secteur                                     \n",
      "Bac             0.0980  0.1569       0.0392  0.2941\n",
      "Licence         0.1373  0.2353       0.0784  0.4510\n",
      "Master          0.0784  0.1176       0.0588  0.2549\n",
      "f.j             0.3137  0.5098       0.1765  1.0000\n",
      "\n",
      "Row profile table:\n",
      "                 Public   Privé  Indépendant     fi.\n",
      "Niveau\\Secteur                                     \n",
      "Bac             0.3333  0.5333       0.1333  0.2941\n",
      "Licence         0.3043  0.5217       0.1739  0.4510\n",
      "Master          0.3077  0.4615       0.2308  0.2549\n",
      "\n",
      "Column profile table:\n",
      "                 Public   Privé  Indépendant\n",
      "Niveau\\Secteur                             \n",
      "Bac             0.3125  0.3077       0.2222\n",
      "Licence         0.4375  0.4615       0.4444\n",
      "Master          0.2500  0.2308       0.3333\n",
      "f.j             0.3137  0.5098       0.1765\n",
      "\n",
      "X:\n",
      " [[ 0.0191  0.0178 -0.0557]\n",
      " [-0.0112  0.0113 -0.0043]\n",
      " [-0.0053 -0.0341  0.0651]]\n",
      "\n",
      "S:\n",
      " [[ 0.0005  0.0004 -0.0014]\n",
      " [ 0.0004  0.0016 -0.0033]\n",
      " [-0.0014 -0.0033  0.0074]]\n",
      "\n",
      "The eigenvalues: [ 9.13362711e-03  4.06503746e-04 -4.01308575e-05]\n",
      "\n",
      "The eigenvectors:\n",
      " [[-0.16465341 -0.80776692  0.56604051]\n",
      " [-0.40307657  0.57887151  0.70882794]\n",
      " [ 0.90023249  0.11144673  0.42090509]]\n",
      "\n",
      "The sorted eigenvalues: [0.00913363 0.0004065 ]\n",
      "\n",
      "The sorted eigenvectors:\n",
      " [[-0.165 -0.808]\n",
      " [-0.403  0.579]\n",
      " [ 0.9    0.111]]\n",
      "\n",
      "Cik:\n",
      " [[-0.0605 -0.0113]\n",
      " [-0.0066  0.0151]\n",
      " [ 0.0732 -0.0082]]\n",
      "\n",
      "Cjk:\n",
      " [[-0.0157 -0.0163]\n",
      " [-0.0385  0.0117]\n",
      " [ 0.086   0.0022]]\n"
     ]
    },
    {
     "data": {
      "application/vnd.plotly.v1+json": {
       "config": {
        "plotlyServerURL": "https://plot.ly"
       },
       "data": [
        {
         "marker": {
          "color": "blue",
          "size": 10
         },
         "mode": "markers+text",
         "name": "Row Profiles",
         "text": [
          "Bac",
          "Licence",
          "Master"
         ],
         "textposition": "top center",
         "type": "scatter",
         "x": [
          -0.060462592651137105,
          -0.006581646794449908,
          0.07322270913404194
         ],
         "y": [
          -0.01133201822362828,
          0.015109016655423007,
          -0.008203171655755702
         ]
        },
        {
         "marker": {
          "color": "red",
          "size": 10,
          "symbol": "diamond"
         },
         "mode": "markers+text",
         "name": "Column Profiles",
         "text": [
          "Public",
          "Privé",
          "Indépendant"
         ],
         "textposition": "bottom center",
         "type": "scatter",
         "x": [
          -0.01573592794639557,
          -0.038522032467548595,
          0.08603522940125714
         ],
         "y": [
          -0.016286146653138968,
          0.011671171508822391,
          0.0022469820663502944
         ]
        }
       ],
       "layout": {
        "height": 1000,
        "hovermode": "closest",
        "shapes": [
         {
          "layer": "below",
          "line": {
           "color": "grey",
           "dash": "dash",
           "width": 1
          },
          "type": "line",
          "x0": -0.7,
          "x1": 0.7,
          "y0": 0,
          "y1": 0
         },
         {
          "layer": "below",
          "line": {
           "color": "black",
           "dash": "dash",
           "width": 1
          },
          "type": "line",
          "x0": 0,
          "x1": 0,
          "y0": -0.3,
          "y1": 0.3
         }
        ],
        "showlegend": true,
        "template": {
         "data": {
          "bar": [
           {
            "error_x": {
             "color": "#2a3f5f"
            },
            "error_y": {
             "color": "#2a3f5f"
            },
            "marker": {
             "line": {
              "color": "#E5ECF6",
              "width": 0.5
             },
             "pattern": {
              "fillmode": "overlay",
              "size": 10,
              "solidity": 0.2
             }
            },
            "type": "bar"
           }
          ],
          "barpolar": [
           {
            "marker": {
             "line": {
              "color": "#E5ECF6",
              "width": 0.5
             },
             "pattern": {
              "fillmode": "overlay",
              "size": 10,
              "solidity": 0.2
             }
            },
            "type": "barpolar"
           }
          ],
          "carpet": [
           {
            "aaxis": {
             "endlinecolor": "#2a3f5f",
             "gridcolor": "white",
             "linecolor": "white",
             "minorgridcolor": "white",
             "startlinecolor": "#2a3f5f"
            },
            "baxis": {
             "endlinecolor": "#2a3f5f",
             "gridcolor": "white",
             "linecolor": "white",
             "minorgridcolor": "white",
             "startlinecolor": "#2a3f5f"
            },
            "type": "carpet"
           }
          ],
          "choropleth": [
           {
            "colorbar": {
             "outlinewidth": 0,
             "ticks": ""
            },
            "type": "choropleth"
           }
          ],
          "contour": [
           {
            "colorbar": {
             "outlinewidth": 0,
             "ticks": ""
            },
            "colorscale": [
             [
              0,
              "#0d0887"
             ],
             [
              0.1111111111111111,
              "#46039f"
             ],
             [
              0.2222222222222222,
              "#7201a8"
             ],
             [
              0.3333333333333333,
              "#9c179e"
             ],
             [
              0.4444444444444444,
              "#bd3786"
             ],
             [
              0.5555555555555556,
              "#d8576b"
             ],
             [
              0.6666666666666666,
              "#ed7953"
             ],
             [
              0.7777777777777778,
              "#fb9f3a"
             ],
             [
              0.8888888888888888,
              "#fdca26"
             ],
             [
              1,
              "#f0f921"
             ]
            ],
            "type": "contour"
           }
          ],
          "contourcarpet": [
           {
            "colorbar": {
             "outlinewidth": 0,
             "ticks": ""
            },
            "type": "contourcarpet"
           }
          ],
          "heatmap": [
           {
            "colorbar": {
             "outlinewidth": 0,
             "ticks": ""
            },
            "colorscale": [
             [
              0,
              "#0d0887"
             ],
             [
              0.1111111111111111,
              "#46039f"
             ],
             [
              0.2222222222222222,
              "#7201a8"
             ],
             [
              0.3333333333333333,
              "#9c179e"
             ],
             [
              0.4444444444444444,
              "#bd3786"
             ],
             [
              0.5555555555555556,
              "#d8576b"
             ],
             [
              0.6666666666666666,
              "#ed7953"
             ],
             [
              0.7777777777777778,
              "#fb9f3a"
             ],
             [
              0.8888888888888888,
              "#fdca26"
             ],
             [
              1,
              "#f0f921"
             ]
            ],
            "type": "heatmap"
           }
          ],
          "heatmapgl": [
           {
            "colorbar": {
             "outlinewidth": 0,
             "ticks": ""
            },
            "colorscale": [
             [
              0,
              "#0d0887"
             ],
             [
              0.1111111111111111,
              "#46039f"
             ],
             [
              0.2222222222222222,
              "#7201a8"
             ],
             [
              0.3333333333333333,
              "#9c179e"
             ],
             [
              0.4444444444444444,
              "#bd3786"
             ],
             [
              0.5555555555555556,
              "#d8576b"
             ],
             [
              0.6666666666666666,
              "#ed7953"
             ],
             [
              0.7777777777777778,
              "#fb9f3a"
             ],
             [
              0.8888888888888888,
              "#fdca26"
             ],
             [
              1,
              "#f0f921"
             ]
            ],
            "type": "heatmapgl"
           }
          ],
          "histogram": [
           {
            "marker": {
             "pattern": {
              "fillmode": "overlay",
              "size": 10,
              "solidity": 0.2
             }
            },
            "type": "histogram"
           }
          ],
          "histogram2d": [
           {
            "colorbar": {
             "outlinewidth": 0,
             "ticks": ""
            },
            "colorscale": [
             [
              0,
              "#0d0887"
             ],
             [
              0.1111111111111111,
              "#46039f"
             ],
             [
              0.2222222222222222,
              "#7201a8"
             ],
             [
              0.3333333333333333,
              "#9c179e"
             ],
             [
              0.4444444444444444,
              "#bd3786"
             ],
             [
              0.5555555555555556,
              "#d8576b"
             ],
             [
              0.6666666666666666,
              "#ed7953"
             ],
             [
              0.7777777777777778,
              "#fb9f3a"
             ],
             [
              0.8888888888888888,
              "#fdca26"
             ],
             [
              1,
              "#f0f921"
             ]
            ],
            "type": "histogram2d"
           }
          ],
          "histogram2dcontour": [
           {
            "colorbar": {
             "outlinewidth": 0,
             "ticks": ""
            },
            "colorscale": [
             [
              0,
              "#0d0887"
             ],
             [
              0.1111111111111111,
              "#46039f"
             ],
             [
              0.2222222222222222,
              "#7201a8"
             ],
             [
              0.3333333333333333,
              "#9c179e"
             ],
             [
              0.4444444444444444,
              "#bd3786"
             ],
             [
              0.5555555555555556,
              "#d8576b"
             ],
             [
              0.6666666666666666,
              "#ed7953"
             ],
             [
              0.7777777777777778,
              "#fb9f3a"
             ],
             [
              0.8888888888888888,
              "#fdca26"
             ],
             [
              1,
              "#f0f921"
             ]
            ],
            "type": "histogram2dcontour"
           }
          ],
          "mesh3d": [
           {
            "colorbar": {
             "outlinewidth": 0,
             "ticks": ""
            },
            "type": "mesh3d"
           }
          ],
          "parcoords": [
           {
            "line": {
             "colorbar": {
              "outlinewidth": 0,
              "ticks": ""
             }
            },
            "type": "parcoords"
           }
          ],
          "pie": [
           {
            "automargin": true,
            "type": "pie"
           }
          ],
          "scatter": [
           {
            "fillpattern": {
             "fillmode": "overlay",
             "size": 10,
             "solidity": 0.2
            },
            "type": "scatter"
           }
          ],
          "scatter3d": [
           {
            "line": {
             "colorbar": {
              "outlinewidth": 0,
              "ticks": ""
             }
            },
            "marker": {
             "colorbar": {
              "outlinewidth": 0,
              "ticks": ""
             }
            },
            "type": "scatter3d"
           }
          ],
          "scattercarpet": [
           {
            "marker": {
             "colorbar": {
              "outlinewidth": 0,
              "ticks": ""
             }
            },
            "type": "scattercarpet"
           }
          ],
          "scattergeo": [
           {
            "marker": {
             "colorbar": {
              "outlinewidth": 0,
              "ticks": ""
             }
            },
            "type": "scattergeo"
           }
          ],
          "scattergl": [
           {
            "marker": {
             "colorbar": {
              "outlinewidth": 0,
              "ticks": ""
             }
            },
            "type": "scattergl"
           }
          ],
          "scattermapbox": [
           {
            "marker": {
             "colorbar": {
              "outlinewidth": 0,
              "ticks": ""
             }
            },
            "type": "scattermapbox"
           }
          ],
          "scatterpolar": [
           {
            "marker": {
             "colorbar": {
              "outlinewidth": 0,
              "ticks": ""
             }
            },
            "type": "scatterpolar"
           }
          ],
          "scatterpolargl": [
           {
            "marker": {
             "colorbar": {
              "outlinewidth": 0,
              "ticks": ""
             }
            },
            "type": "scatterpolargl"
           }
          ],
          "scatterternary": [
           {
            "marker": {
             "colorbar": {
              "outlinewidth": 0,
              "ticks": ""
             }
            },
            "type": "scatterternary"
           }
          ],
          "surface": [
           {
            "colorbar": {
             "outlinewidth": 0,
             "ticks": ""
            },
            "colorscale": [
             [
              0,
              "#0d0887"
             ],
             [
              0.1111111111111111,
              "#46039f"
             ],
             [
              0.2222222222222222,
              "#7201a8"
             ],
             [
              0.3333333333333333,
              "#9c179e"
             ],
             [
              0.4444444444444444,
              "#bd3786"
             ],
             [
              0.5555555555555556,
              "#d8576b"
             ],
             [
              0.6666666666666666,
              "#ed7953"
             ],
             [
              0.7777777777777778,
              "#fb9f3a"
             ],
             [
              0.8888888888888888,
              "#fdca26"
             ],
             [
              1,
              "#f0f921"
             ]
            ],
            "type": "surface"
           }
          ],
          "table": [
           {
            "cells": {
             "fill": {
              "color": "#EBF0F8"
             },
             "line": {
              "color": "white"
             }
            },
            "header": {
             "fill": {
              "color": "#C8D4E3"
             },
             "line": {
              "color": "white"
             }
            },
            "type": "table"
           }
          ]
         },
         "layout": {
          "annotationdefaults": {
           "arrowcolor": "#2a3f5f",
           "arrowhead": 0,
           "arrowwidth": 1
          },
          "autotypenumbers": "strict",
          "coloraxis": {
           "colorbar": {
            "outlinewidth": 0,
            "ticks": ""
           }
          },
          "colorscale": {
           "diverging": [
            [
             0,
             "#8e0152"
            ],
            [
             0.1,
             "#c51b7d"
            ],
            [
             0.2,
             "#de77ae"
            ],
            [
             0.3,
             "#f1b6da"
            ],
            [
             0.4,
             "#fde0ef"
            ],
            [
             0.5,
             "#f7f7f7"
            ],
            [
             0.6,
             "#e6f5d0"
            ],
            [
             0.7,
             "#b8e186"
            ],
            [
             0.8,
             "#7fbc41"
            ],
            [
             0.9,
             "#4d9221"
            ],
            [
             1,
             "#276419"
            ]
           ],
           "sequential": [
            [
             0,
             "#0d0887"
            ],
            [
             0.1111111111111111,
             "#46039f"
            ],
            [
             0.2222222222222222,
             "#7201a8"
            ],
            [
             0.3333333333333333,
             "#9c179e"
            ],
            [
             0.4444444444444444,
             "#bd3786"
            ],
            [
             0.5555555555555556,
             "#d8576b"
            ],
            [
             0.6666666666666666,
             "#ed7953"
            ],
            [
             0.7777777777777778,
             "#fb9f3a"
            ],
            [
             0.8888888888888888,
             "#fdca26"
            ],
            [
             1,
             "#f0f921"
            ]
           ],
           "sequentialminus": [
            [
             0,
             "#0d0887"
            ],
            [
             0.1111111111111111,
             "#46039f"
            ],
            [
             0.2222222222222222,
             "#7201a8"
            ],
            [
             0.3333333333333333,
             "#9c179e"
            ],
            [
             0.4444444444444444,
             "#bd3786"
            ],
            [
             0.5555555555555556,
             "#d8576b"
            ],
            [
             0.6666666666666666,
             "#ed7953"
            ],
            [
             0.7777777777777778,
             "#fb9f3a"
            ],
            [
             0.8888888888888888,
             "#fdca26"
            ],
            [
             1,
             "#f0f921"
            ]
           ]
          },
          "colorway": [
           "#636efa",
           "#EF553B",
           "#00cc96",
           "#ab63fa",
           "#FFA15A",
           "#19d3f3",
           "#FF6692",
           "#B6E880",
           "#FF97FF",
           "#FECB52"
          ],
          "font": {
           "color": "#2a3f5f"
          },
          "geo": {
           "bgcolor": "white",
           "lakecolor": "white",
           "landcolor": "#E5ECF6",
           "showlakes": true,
           "showland": true,
           "subunitcolor": "white"
          },
          "hoverlabel": {
           "align": "left"
          },
          "hovermode": "closest",
          "mapbox": {
           "style": "light"
          },
          "paper_bgcolor": "white",
          "plot_bgcolor": "#E5ECF6",
          "polar": {
           "angularaxis": {
            "gridcolor": "white",
            "linecolor": "white",
            "ticks": ""
           },
           "bgcolor": "#E5ECF6",
           "radialaxis": {
            "gridcolor": "white",
            "linecolor": "white",
            "ticks": ""
           }
          },
          "scene": {
           "xaxis": {
            "backgroundcolor": "#E5ECF6",
            "gridcolor": "white",
            "gridwidth": 2,
            "linecolor": "white",
            "showbackground": true,
            "ticks": "",
            "zerolinecolor": "white"
           },
           "yaxis": {
            "backgroundcolor": "#E5ECF6",
            "gridcolor": "white",
            "gridwidth": 2,
            "linecolor": "white",
            "showbackground": true,
            "ticks": "",
            "zerolinecolor": "white"
           },
           "zaxis": {
            "backgroundcolor": "#E5ECF6",
            "gridcolor": "white",
            "gridwidth": 2,
            "linecolor": "white",
            "showbackground": true,
            "ticks": "",
            "zerolinecolor": "white"
           }
          },
          "shapedefaults": {
           "line": {
            "color": "#2a3f5f"
           }
          },
          "ternary": {
           "aaxis": {
            "gridcolor": "white",
            "linecolor": "white",
            "ticks": ""
           },
           "baxis": {
            "gridcolor": "white",
            "linecolor": "white",
            "ticks": ""
           },
           "bgcolor": "#E5ECF6",
           "caxis": {
            "gridcolor": "white",
            "linecolor": "white",
            "ticks": ""
           }
          },
          "title": {
           "x": 0.05
          },
          "xaxis": {
           "automargin": true,
           "gridcolor": "white",
           "linecolor": "white",
           "ticks": "",
           "title": {
            "standoff": 15
           },
           "zerolinecolor": "white",
           "zerolinewidth": 2
          },
          "yaxis": {
           "automargin": true,
           "gridcolor": "white",
           "linecolor": "white",
           "ticks": "",
           "title": {
            "standoff": 15
           },
           "zerolinecolor": "white",
           "zerolinewidth": 2
          }
         }
        },
        "title": {
         "text": "Correspondence Analysis Biplot",
         "x": 0.5
        },
        "width": 1600,
        "xaxis": {
         "range": [
          -0.7,
          0.7
         ],
         "tickmode": "array",
         "tickvals": [
          -0.8,
          -0.6,
          -0.4,
          -0.2,
          0,
          0.2,
          0.4,
          0.6,
          0.8
         ],
         "title": {
          "text": "Dimension 1"
         },
         "zeroline": true,
         "zerolinecolor": "black",
         "zerolinewidth": 1
        },
        "yaxis": {
         "range": [
          -0.3,
          0.3
         ],
         "title": {
          "text": "Dimension 2"
         },
         "zeroline": true,
         "zerolinecolor": "black",
         "zerolinewidth": 1
        }
       }
      }
     },
     "metadata": {},
     "output_type": "display_data"
    }
   ],
   "source": [
    "import numpy as np\n",
    "import pandas as pd\n",
    "import plotly.graph_objects as go\n",
    "\n",
    "\n",
    "def correspondence_analysis(excel_path):\n",
    "    data = pd.read_excel(excel_path,index_col=0)\n",
    "    print('Original Contingency table:\\n',data)\n",
    "\n",
    "    k = data.values.sum()\n",
    "    print('\\nTotal observations k =',k)\n",
    "\n",
    "    frequency_table = data/k\n",
    "    frequency_table['fi.'] = frequency_table.sum(axis=1)\n",
    "    frequency_table.loc['f.j'] = frequency_table.sum(axis=0)\n",
    "\n",
    "    print('\\nFrequency table:\\n',frequency_table.round(4))\n",
    "\n",
    "    row_prof_tab = frequency_table.iloc[:-1,:-1].div(frequency_table['fi.'][:-1], axis=0).round(4)\n",
    "    row_prof_tab['fi.'] = frequency_table['fi.'][:-1].round(4)\n",
    "    print(\"\\nRow profile table:\\n\",row_prof_tab)\n",
    "\n",
    "    col_prof_tab = frequency_table.iloc[:-1,:-1].div(frequency_table.loc['f.j'][:-1],axis=1).round(4)\n",
    "    col_prof_tab.loc['f.j'] = frequency_table.loc['f.j'][:-1].round(4)\n",
    "    print(\"\\nColumn profile table:\\n\",col_prof_tab)\n",
    "\n",
    "    fij = frequency_table.iloc[:-1,:-1].values\n",
    "    fi = frequency_table['fi.'][:-1].values\n",
    "    fj = frequency_table.loc['f.j'][:-1].values\n",
    "\n",
    "    expected = np.outer(fi,fj)\n",
    "    \n",
    "    centered =(fij - expected).round(4)\n",
    "\n",
    "    di = np.diag(1/np.sqrt(fi)).round(3)\n",
    "    dj = np.diag(1/np.sqrt(fj)).round(3)\n",
    "\n",
    "    X = (di @ centered @ dj).round(4)\n",
    "    print(\"\\nX:\\n\",X)\n",
    "\n",
    "    S =np.dot(X.T,X).round(4)\n",
    "    print(\"\\nS:\\n\",S)\n",
    "\n",
    "    eigenvalues ,eigenvectors = np.linalg.eig(S)\n",
    "\n",
    "    idx = np.argsort(eigenvalues)[::-1]\n",
    "    sorted_eigenvalues = eigenvalues[idx]\n",
    "    sorted_eigenvectors = eigenvectors[:,idx]\n",
    "\n",
    "    n_componets=len(sorted_eigenvalues)-1\n",
    "\n",
    "    print(\"\\nThe eigenvalues:\",eigenvalues)\n",
    "    print(\"\\nThe eigenvectors:\\n\",eigenvectors)\n",
    "\n",
    "    print(\"\\nThe sorted eigenvalues:\",sorted_eigenvalues[:n_componets])\n",
    "    print(\"\\nThe sorted eigenvectors:\\n\",sorted_eigenvectors[:,:n_componets].round(3))\n",
    "\n",
    "\n",
    "    Cik = np.dot(X , sorted_eigenvectors[:,:n_componets])\n",
    "    print(\"\\nCik:\\n\",Cik.round(4))\n",
    "\n",
    "    Cjk = np.sqrt(sorted_eigenvalues[:n_componets]) * sorted_eigenvectors[:,:n_componets]\n",
    "    print(\"\\nCjk:\\n\",Cjk.round(4))\n",
    "\n",
    "    row_labels = data.index.tolist()\n",
    "    col_labels = data.columns.tolist()\n",
    "\n",
    "    fig = go.Figure()\n",
    "\n",
    "    fig.add_trace(go.Scatter(\n",
    "        x=Cik[:,0], y=Cik[:,1],\n",
    "        mode ='markers+text',\n",
    "        marker= dict(size=10,color = 'blue'),\n",
    "        text=row_labels,\n",
    "        textposition='top center',\n",
    "        name=\"Row Profiles\"\n",
    "    ))\n",
    "\n",
    "    fig.add_trace(go.Scatter(\n",
    "        x=Cjk[:,0],y=Cjk[:,1],\n",
    "        mode='markers+text',\n",
    "        marker=dict(size=10,color='red',symbol='diamond'),\n",
    "        text=col_labels,\n",
    "        textposition='bottom center',\n",
    "        name=\"Column Profiles\"\n",
    "    ))\n",
    "\n",
    "    fig.add_shape(\n",
    "        type=\"line\",\n",
    "        x0=-0.7,y0=0, x1=0.7,y1=0,\n",
    "        line=dict(color='grey',width=1,dash='dash'),\n",
    "        layer='below'\n",
    "    )\n",
    "\n",
    "    fig.add_shape(\n",
    "        type=\"line\",\n",
    "        x0=0,y0=-0.3, x1=0,y1=0.3,\n",
    "        line=dict(color='black',width=1,dash='dash'),\n",
    "        layer='below',\n",
    "    )\n",
    "\n",
    "    fig.update_layout(\n",
    "        width=1600,\n",
    "        height=1000,\n",
    "        title=\"Correspondence Analysis Biplot\",\n",
    "        title_x = 0.5,\n",
    "        xaxis_title=\"Dimension 1\",\n",
    "        yaxis_title=\"Dimension 2\",\n",
    "        showlegend=True,\n",
    "        hovermode='closest',\n",
    "        xaxis=dict(\n",
    "            tickmode='array',\n",
    "            tickvals=np.arange(-0.8, 0.9, 0.2).round(1),\n",
    "            range=[-0.7, 0.7] ,\n",
    "            zeroline=True,\n",
    "            zerolinecolor='black',\n",
    "            zerolinewidth=1,\n",
    "        ),\n",
    "        yaxis=dict(\n",
    "            range=[-0.3, 0.3] ,\n",
    "            zeroline=True,\n",
    "            zerolinecolor='black',\n",
    "            zerolinewidth=1,\n",
    "    ))\n",
    "\n",
    "    fig.show()\n",
    "\n",
    "\n",
    "correspondence_analysis('yeux_cheveux.xlsx')\n",
    "print('\\n')\n",
    "correspondence_analysis('niveau_secteur.xlsx')"
   ]
  },
  {
   "cell_type": "code",
   "execution_count": 8,
   "metadata": {},
   "outputs": [
    {
     "name": "stdout",
     "output_type": "stream",
     "text": [
      "Original Contingency table:\n",
      "                     Chemistry  Economics  Literature  Medicine  Peace  Physics\n",
      "country \\ Category                                                            \n",
      "Australia                   0          0           0         4      0        1\n",
      "Austria                     1          1           2         4      1        2\n",
      "Belgium                     1          0           1         3      4        1\n",
      "Canada                      3          0           2         3      1        3\n",
      "China                       0          0           2         1      2        0\n",
      "Denmark                     2          0           4         4      1        3\n",
      "France                     10          2          13        10      9       15\n",
      "Germany                    33          1           6        16      6       24\n",
      "India                       0          0           2         0      1        1\n",
      "Ireland                     0          0           4         0      4        1\n",
      "Italy                       1          0           6         3      0        3\n",
      "Japan                       6          0           3         4      1        7\n",
      "Norway                      1          2           3         2      2        0\n",
      "Poland                      0          0           6         0      3        1\n",
      "Russia                      1          1           7         1      4        9\n",
      "South Africa                0          0           2         0      3        0\n",
      "Spain                       0          0           5         1      0        0\n",
      "Sweden                      5          2           7         7      5        5\n",
      "Switzerland                 7          0           2         8      3        9\n",
      "USA                        86         76          10       117     19      107\n",
      "United Kingdom             29          6           6        32      5       26\n",
      "other world                 2          0          23         5     29        0\n",
      "the Netherlands             1          1           0         2      1        7\n",
      "\n",
      "Total observations k = 953\n",
      "\n",
      "Frequency table:\n",
      "                     Chemistry  Economics  Literature  Medicine   Peace  \\\n",
      "country \\ Category                                                       \n",
      "Australia              0.0000     0.0000      0.0000    0.0042  0.0000   \n",
      "Austria                0.0010     0.0010      0.0021    0.0042  0.0010   \n",
      "Belgium                0.0010     0.0000      0.0010    0.0031  0.0042   \n",
      "Canada                 0.0031     0.0000      0.0021    0.0031  0.0010   \n",
      "China                  0.0000     0.0000      0.0021    0.0010  0.0021   \n",
      "Denmark                0.0021     0.0000      0.0042    0.0042  0.0010   \n",
      "France                 0.0105     0.0021      0.0136    0.0105  0.0094   \n",
      "Germany                0.0346     0.0010      0.0063    0.0168  0.0063   \n",
      "India                  0.0000     0.0000      0.0021    0.0000  0.0010   \n",
      "Ireland                0.0000     0.0000      0.0042    0.0000  0.0042   \n",
      "Italy                  0.0010     0.0000      0.0063    0.0031  0.0000   \n",
      "Japan                  0.0063     0.0000      0.0031    0.0042  0.0010   \n",
      "Norway                 0.0010     0.0021      0.0031    0.0021  0.0021   \n",
      "Poland                 0.0000     0.0000      0.0063    0.0000  0.0031   \n",
      "Russia                 0.0010     0.0010      0.0073    0.0010  0.0042   \n",
      "South Africa           0.0000     0.0000      0.0021    0.0000  0.0031   \n",
      "Spain                  0.0000     0.0000      0.0052    0.0010  0.0000   \n",
      "Sweden                 0.0052     0.0021      0.0073    0.0073  0.0052   \n",
      "Switzerland            0.0073     0.0000      0.0021    0.0084  0.0031   \n",
      "USA                    0.0902     0.0797      0.0105    0.1228  0.0199   \n",
      "United Kingdom         0.0304     0.0063      0.0063    0.0336  0.0052   \n",
      "other world            0.0021     0.0000      0.0241    0.0052  0.0304   \n",
      "the Netherlands        0.0010     0.0010      0.0000    0.0021  0.0010   \n",
      "f.j                    0.1983     0.0965      0.1217    0.2382  0.1091   \n",
      "\n",
      "                    Physics     fi.  \n",
      "country \\ Category                   \n",
      "Australia            0.0010  0.0052  \n",
      "Austria              0.0021  0.0115  \n",
      "Belgium              0.0010  0.0105  \n",
      "Canada               0.0031  0.0126  \n",
      "China                0.0000  0.0052  \n",
      "Denmark              0.0031  0.0147  \n",
      "France               0.0157  0.0619  \n",
      "Germany              0.0252  0.0902  \n",
      "India                0.0010  0.0042  \n",
      "Ireland              0.0010  0.0094  \n",
      "Italy                0.0031  0.0136  \n",
      "Japan                0.0073  0.0220  \n",
      "Norway               0.0000  0.0105  \n",
      "Poland               0.0010  0.0105  \n",
      "Russia               0.0094  0.0241  \n",
      "South Africa         0.0000  0.0052  \n",
      "Spain                0.0000  0.0063  \n",
      "Sweden               0.0052  0.0325  \n",
      "Switzerland          0.0094  0.0304  \n",
      "USA                  0.1123  0.4355  \n",
      "United Kingdom       0.0273  0.1091  \n",
      "other world          0.0000  0.0619  \n",
      "the Netherlands      0.0073  0.0126  \n",
      "f.j                  0.2361  1.0000  \n",
      "\n",
      "Row profile table:\n",
      "                     Chemistry  Economics  Literature  Medicine   Peace  \\\n",
      "country \\ Category                                                       \n",
      "Australia              0.0000     0.0000      0.0000    0.8000  0.0000   \n",
      "Austria                0.0909     0.0909      0.1818    0.3636  0.0909   \n",
      "Belgium                0.1000     0.0000      0.1000    0.3000  0.4000   \n",
      "Canada                 0.2500     0.0000      0.1667    0.2500  0.0833   \n",
      "China                  0.0000     0.0000      0.4000    0.2000  0.4000   \n",
      "Denmark                0.1429     0.0000      0.2857    0.2857  0.0714   \n",
      "France                 0.1695     0.0339      0.2203    0.1695  0.1525   \n",
      "Germany                0.3837     0.0116      0.0698    0.1860  0.0698   \n",
      "India                  0.0000     0.0000      0.5000    0.0000  0.2500   \n",
      "Ireland                0.0000     0.0000      0.4444    0.0000  0.4444   \n",
      "Italy                  0.0769     0.0000      0.4615    0.2308  0.0000   \n",
      "Japan                  0.2857     0.0000      0.1429    0.1905  0.0476   \n",
      "Norway                 0.1000     0.2000      0.3000    0.2000  0.2000   \n",
      "Poland                 0.0000     0.0000      0.6000    0.0000  0.3000   \n",
      "Russia                 0.0435     0.0435      0.3043    0.0435  0.1739   \n",
      "South Africa           0.0000     0.0000      0.4000    0.0000  0.6000   \n",
      "Spain                  0.0000     0.0000      0.8333    0.1667  0.0000   \n",
      "Sweden                 0.1613     0.0645      0.2258    0.2258  0.1613   \n",
      "Switzerland            0.2414     0.0000      0.0690    0.2759  0.1034   \n",
      "USA                    0.2072     0.1831      0.0241    0.2819  0.0458   \n",
      "United Kingdom         0.2788     0.0577      0.0577    0.3077  0.0481   \n",
      "other world            0.0339     0.0000      0.3898    0.0847  0.4915   \n",
      "the Netherlands        0.0833     0.0833      0.0000    0.1667  0.0833   \n",
      "\n",
      "                    Physics     fi.  \n",
      "country \\ Category                   \n",
      "Australia            0.2000  0.0052  \n",
      "Austria              0.1818  0.0115  \n",
      "Belgium              0.1000  0.0105  \n",
      "Canada               0.2500  0.0126  \n",
      "China                0.0000  0.0052  \n",
      "Denmark              0.2143  0.0147  \n",
      "France               0.2542  0.0619  \n",
      "Germany              0.2791  0.0902  \n",
      "India                0.2500  0.0042  \n",
      "Ireland              0.1111  0.0094  \n",
      "Italy                0.2308  0.0136  \n",
      "Japan                0.3333  0.0220  \n",
      "Norway               0.0000  0.0105  \n",
      "Poland               0.1000  0.0105  \n",
      "Russia               0.3913  0.0241  \n",
      "South Africa         0.0000  0.0052  \n",
      "Spain                0.0000  0.0063  \n",
      "Sweden               0.1613  0.0325  \n",
      "Switzerland          0.3103  0.0304  \n",
      "USA                  0.2578  0.4355  \n",
      "United Kingdom       0.2500  0.1091  \n",
      "other world          0.0000  0.0619  \n",
      "the Netherlands      0.5833  0.0126  \n",
      "\n",
      "Column profile table:\n",
      "                     Chemistry  Economics  Literature  Medicine   Peace  \\\n",
      "country \\ Category                                                       \n",
      "Australia              0.0000     0.0000      0.0000    0.0176  0.0000   \n",
      "Austria                0.0053     0.0109      0.0172    0.0176  0.0096   \n",
      "Belgium                0.0053     0.0000      0.0086    0.0132  0.0385   \n",
      "Canada                 0.0159     0.0000      0.0172    0.0132  0.0096   \n",
      "China                  0.0000     0.0000      0.0172    0.0044  0.0192   \n",
      "Denmark                0.0106     0.0000      0.0345    0.0176  0.0096   \n",
      "France                 0.0529     0.0217      0.1121    0.0441  0.0865   \n",
      "Germany                0.1746     0.0109      0.0517    0.0705  0.0577   \n",
      "India                  0.0000     0.0000      0.0172    0.0000  0.0096   \n",
      "Ireland                0.0000     0.0000      0.0345    0.0000  0.0385   \n",
      "Italy                  0.0053     0.0000      0.0517    0.0132  0.0000   \n",
      "Japan                  0.0317     0.0000      0.0259    0.0176  0.0096   \n",
      "Norway                 0.0053     0.0217      0.0259    0.0088  0.0192   \n",
      "Poland                 0.0000     0.0000      0.0517    0.0000  0.0288   \n",
      "Russia                 0.0053     0.0109      0.0603    0.0044  0.0385   \n",
      "South Africa           0.0000     0.0000      0.0172    0.0000  0.0288   \n",
      "Spain                  0.0000     0.0000      0.0431    0.0044  0.0000   \n",
      "Sweden                 0.0265     0.0217      0.0603    0.0308  0.0481   \n",
      "Switzerland            0.0370     0.0000      0.0172    0.0352  0.0288   \n",
      "USA                    0.4550     0.8261      0.0862    0.5154  0.1827   \n",
      "United Kingdom         0.1534     0.0652      0.0517    0.1410  0.0481   \n",
      "other world            0.0106     0.0000      0.1983    0.0220  0.2788   \n",
      "the Netherlands        0.0053     0.0109      0.0000    0.0088  0.0096   \n",
      "f.j                    0.1983     0.0965      0.1217    0.2382  0.1091   \n",
      "\n",
      "                    Physics  \n",
      "country \\ Category           \n",
      "Australia            0.0044  \n",
      "Austria              0.0089  \n",
      "Belgium              0.0044  \n",
      "Canada               0.0133  \n",
      "China                0.0000  \n",
      "Denmark              0.0133  \n",
      "France               0.0667  \n",
      "Germany              0.1067  \n",
      "India                0.0044  \n",
      "Ireland              0.0044  \n",
      "Italy                0.0133  \n",
      "Japan                0.0311  \n",
      "Norway               0.0000  \n",
      "Poland               0.0044  \n",
      "Russia               0.0400  \n",
      "South Africa         0.0000  \n",
      "Spain                0.0000  \n",
      "Sweden               0.0222  \n",
      "Switzerland          0.0400  \n",
      "USA                  0.4756  \n",
      "United Kingdom       0.1156  \n",
      "other world          0.0000  \n",
      "the Netherlands      0.0311  \n",
      "f.j                  0.2361  \n",
      "\n",
      "X:\n",
      " [[-0.031  -0.0222 -0.0237  0.082  -0.0251 -0.0057]\n",
      " [-0.0251 -0.003   0.0187  0.0267 -0.0056 -0.0115]\n",
      " [-0.0219 -0.0314 -0.0056  0.012   0.0916 -0.0281]\n",
      " [ 0.014  -0.0344  0.0153  0.0018 -0.0081  0.0037]\n",
      " [-0.031  -0.0222  0.0594 -0.0057  0.0627 -0.0341]\n",
      " [-0.0148 -0.0372  0.0568  0.0118 -0.015  -0.0051]\n",
      " [-0.0162 -0.0504  0.0703 -0.0354  0.0328  0.0091]\n",
      " [ 0.1249 -0.0825 -0.0448 -0.0321 -0.0363  0.0267]\n",
      " [-0.0277 -0.0199  0.0708 -0.0316  0.028   0.0032]\n",
      " [-0.0439 -0.0298  0.0885 -0.0464  0.0997 -0.0254]\n",
      " [-0.0327 -0.0358  0.1129 -0.0018 -0.0389 -0.0018]\n",
      " [ 0.0287 -0.0455  0.0097 -0.0152 -0.0286  0.0291]\n",
      " [-0.0219  0.0346  0.0532 -0.008   0.0295 -0.0502]\n",
      " [-0.046  -0.0314  0.1399 -0.05    0.0591 -0.0281]\n",
      " [-0.0535 -0.0269  0.0812 -0.062   0.0312  0.049 ]\n",
      " [-0.031  -0.0222  0.0594 -0.0339  0.1087 -0.0341]\n",
      " [-0.034  -0.0243  0.1625 -0.0129 -0.0267 -0.0389]\n",
      " [-0.0149 -0.0178  0.054  -0.0045  0.0285 -0.0274]\n",
      " [ 0.0167 -0.0535 -0.0263  0.0129 -0.0035  0.0271]\n",
      " [ 0.0133  0.1838 -0.1845  0.059  -0.1266  0.0296]\n",
      " [ 0.0598 -0.0409 -0.0607  0.0471 -0.0614  0.0093]\n",
      " [-0.0921 -0.0776  0.1912 -0.0782  0.2883 -0.1208]\n",
      " [-0.028  -0.0057 -0.0383 -0.0164 -0.0081  0.0807]]\n",
      "\n",
      "S:\n",
      " [[ 0.045   0.0048 -0.0612  0.0145 -0.0523  0.0202]\n",
      " [ 0.0048  0.0672 -0.0673  0.023  -0.0492  0.0112]\n",
      " [-0.0612 -0.0673  0.1789 -0.0541  0.1114 -0.0501]\n",
      " [ 0.0145  0.023  -0.0541  0.0334 -0.0481  0.0097]\n",
      " [-0.0523 -0.0492  0.1114 -0.0481  0.1504 -0.0533]\n",
      " [ 0.0202  0.0112 -0.0501  0.0097 -0.0533  0.0364]]\n",
      "\n",
      "The eigenvalues: [3.63788808e-01 6.24321549e-02 4.78897140e-02 3.04604107e-05\n",
      " 1.49432871e-02 2.22155757e-02]\n",
      "\n",
      "The eigenvectors:\n",
      " [[ 0.2489226   0.32028676  0.43731154  0.44658855 -0.6413367  -0.18291651]\n",
      " [ 0.27431821 -0.64000445 -0.48339978  0.30924637 -0.38355201  0.19678166]\n",
      " [-0.65598121  0.36938076 -0.52758954  0.3504694  -0.16875174 -0.05991515]\n",
      " [ 0.22766654 -0.08981605 -0.10596379  0.4891758   0.50081128 -0.6623955 ]\n",
      " [-0.57432558 -0.51400972  0.5331498   0.32578543  0.08465862  0.09160897]\n",
      " [ 0.22537477  0.28123945  0.03543333  0.48648478  0.3938514   0.6907016 ]]\n",
      "\n",
      "The sorted eigenvalues: [0.36378881 0.06243215 0.04788971 0.02221558 0.01494329]\n",
      "\n",
      "The sorted eigenvectors:\n",
      " [[ 0.249  0.32   0.437 -0.183 -0.641]\n",
      " [ 0.274 -0.64  -0.483  0.197 -0.384]\n",
      " [-0.656  0.369 -0.528 -0.06  -0.169]\n",
      " [ 0.228 -0.09  -0.106 -0.662  0.501]\n",
      " [-0.574 -0.514  0.533  0.092  0.085]\n",
      " [ 0.225  0.281  0.035  0.691  0.394]]\n",
      "\n",
      "Cik:\n",
      " [[ 3.350e-02 -5.000e-04 -1.260e-02 -5.780e-02  6.910e-02]\n",
      " [-1.260e-02 -2.000e-03 -2.560e-02 -2.330e-02  2.250e-02]\n",
      " [-6.660e-02 -4.510e-02  5.510e-02 -2.080e-02  2.970e-02]\n",
      " [-1.010e-02  3.720e-02  1.030e-02 -9.600e-03  3.300e-03]\n",
      " [-9.780e-02 -1.510e-02 -1.300e-03 -1.630e-02  7.400e-03]\n",
      " [-4.100e-02  4.530e-02 -2.790e-02 -2.070e-02  1.680e-02]\n",
      " [-8.880e-02  4.190e-02  1.800e-03  2.160e-02  6.500e-03]\n",
      " [ 5.740e-02  1.053e-01  1.031e-01 -0.000e+00 -4.950e-02]\n",
      " [-8.140e-02  1.940e-02 -2.150e-02  2.260e-02  1.300e-03]\n",
      " [-1.507e-01 -1.650e-02  5.700e-03  1.920e-02 -2.000e-04]\n",
      " [-7.050e-02  7.380e-02 -7.720e-02 -1.140e-02  1.070e-02]\n",
      " [ 7.800e-03  6.610e-02  1.680e-02  1.280e-02 -1.200e-03]\n",
      " [-6.090e-02 -3.810e-02 -3.960e-02 -1.900e-02 -2.950e-02]\n",
      " [-1.635e-01  2.320e-02 -4.290e-02  1.300e-02 -1.320e-02]\n",
      " [-9.500e-02  3.340e-02 -2.830e-02  7.740e-02  2.180e-02]\n",
      " [-1.306e-01 -3.620e-02  2.620e-02  6.600e-03 -2.800e-03]\n",
      " [-1.181e-01  6.860e-02 -1.031e-01 -2.910e-02 -2.030e-02]\n",
      " [-6.760e-02  4.600e-03 -1.170e-02 -1.730e-02 -3.400e-03]\n",
      " [ 1.780e-02  3.810e-02  4.480e-02 -2.200e-03  3.110e-02]\n",
      " [ 2.676e-01 -1.134e-01 -5.840e-02  1.460e-02 -1.740e-02]\n",
      " [ 9.160e-02  5.290e-02  4.060e-02 -4.580e-02  9.600e-03]\n",
      " [-3.802e-01 -8.430e-02  5.410e-02 -1.510e-02 -5.800e-03]\n",
      " [ 3.570e-02  8.900e-03  1.100e-02  7.220e-02  4.950e-02]]\n",
      "\n",
      "Cjk:\n",
      " [[ 0.1501  0.08    0.0957 -0.0273 -0.0784]\n",
      " [ 0.1655 -0.1599 -0.1058  0.0293 -0.0469]\n",
      " [-0.3957  0.0923 -0.1155 -0.0089 -0.0206]\n",
      " [ 0.1373 -0.0224 -0.0232 -0.0987  0.0612]\n",
      " [-0.3464 -0.1284  0.1167  0.0137  0.0103]\n",
      " [ 0.1359  0.0703  0.0078  0.1029  0.0481]]\n"
     ]
    },
    {
     "data": {
      "application/vnd.plotly.v1+json": {
       "config": {
        "plotlyServerURL": "https://plot.ly"
       },
       "data": [
        {
         "marker": {
          "color": "blue",
          "size": 10
         },
         "mode": "markers+text",
         "name": "Row Profiles",
         "text": [
          "Australia",
          "Austria",
          "Belgium",
          "Canada",
          "China",
          "Denmark",
          "France",
          "Germany",
          "India",
          "Ireland",
          "Italy",
          "Japan",
          "Norway",
          "Poland",
          "Russia",
          "South Africa",
          "Spain",
          "Sweden",
          "Switzerland",
          "USA",
          "United Kingdom",
          "other world",
          "the Netherlands"
         ],
         "textposition": "top center",
         "type": "scatter",
         "x": [
          0.03353988154931979,
          -0.012634650735530446,
          -0.06660075763981525,
          -0.010092418782557712,
          -0.09776494158892185,
          -0.040996487126659,
          -0.08882002687421463,
          0.057404568484530426,
          -0.08135173763703143,
          -0.1507052287112909,
          -0.0704948489612122,
          0.007823168623100148,
          -0.06093594584194771,
          -0.16349480243106443,
          -0.09495311288428182,
          -0.1306041145383034,
          -0.1180957316295127,
          -0.06758284340174972,
          0.017787983377714065,
          0.2675719276165949,
          0.09156668629205342,
          -0.3802433320826249,
          0.035696683710760235
         ],
         "y": [
          -0.0005414517336358519,
          -0.001965651869435475,
          -0.04505058409537074,
          0.0371940893091261,
          -0.015086296766219436,
          0.04526474406262041,
          0.04191429467909925,
          0.10530666715598902,
          0.01936218442592658,
          -0.01652104527273707,
          0.07379228629478606,
          0.06614537598222284,
          -0.03807035632900213,
          0.023249316742323597,
          0.03338672058206682,
          -0.03619793134063763,
          0.06862920408530829,
          0.004615301906867099,
          0.038136309157052475,
          -0.1134245835048923,
          0.052853306086690865,
          -0.08434757659379856,
          0.008865198325912501
         ]
        },
        {
         "marker": {
          "color": "red",
          "size": 10,
          "symbol": "diamond"
         },
         "mode": "markers+text",
         "name": "Column Profiles",
         "text": [
          "Chemistry",
          "Economics",
          "Literature",
          "Medicine",
          "Peace",
          "Physics"
         ],
         "textposition": "bottom center",
         "type": "scatter",
         "x": [
          0.15013743897089696,
          0.16545477347336027,
          -0.3956544607191605,
          0.1373168611838014,
          -0.34640394210241626,
          0.1359345854324327
         ],
         "y": [
          0.08002821947414727,
          -0.15991424691064526,
          0.09229505583840264,
          -0.022441821333053422,
          -0.1284326649121906,
          0.07027169089688007
         ]
        }
       ],
       "layout": {
        "height": 1000,
        "hovermode": "closest",
        "shapes": [
         {
          "layer": "below",
          "line": {
           "color": "grey",
           "dash": "dash",
           "width": 1
          },
          "type": "line",
          "x0": -0.7,
          "x1": 0.7,
          "y0": 0,
          "y1": 0
         },
         {
          "layer": "below",
          "line": {
           "color": "black",
           "dash": "dash",
           "width": 1
          },
          "type": "line",
          "x0": 0,
          "x1": 0,
          "y0": -0.3,
          "y1": 0.3
         }
        ],
        "showlegend": true,
        "template": {
         "data": {
          "bar": [
           {
            "error_x": {
             "color": "#2a3f5f"
            },
            "error_y": {
             "color": "#2a3f5f"
            },
            "marker": {
             "line": {
              "color": "#E5ECF6",
              "width": 0.5
             },
             "pattern": {
              "fillmode": "overlay",
              "size": 10,
              "solidity": 0.2
             }
            },
            "type": "bar"
           }
          ],
          "barpolar": [
           {
            "marker": {
             "line": {
              "color": "#E5ECF6",
              "width": 0.5
             },
             "pattern": {
              "fillmode": "overlay",
              "size": 10,
              "solidity": 0.2
             }
            },
            "type": "barpolar"
           }
          ],
          "carpet": [
           {
            "aaxis": {
             "endlinecolor": "#2a3f5f",
             "gridcolor": "white",
             "linecolor": "white",
             "minorgridcolor": "white",
             "startlinecolor": "#2a3f5f"
            },
            "baxis": {
             "endlinecolor": "#2a3f5f",
             "gridcolor": "white",
             "linecolor": "white",
             "minorgridcolor": "white",
             "startlinecolor": "#2a3f5f"
            },
            "type": "carpet"
           }
          ],
          "choropleth": [
           {
            "colorbar": {
             "outlinewidth": 0,
             "ticks": ""
            },
            "type": "choropleth"
           }
          ],
          "contour": [
           {
            "colorbar": {
             "outlinewidth": 0,
             "ticks": ""
            },
            "colorscale": [
             [
              0,
              "#0d0887"
             ],
             [
              0.1111111111111111,
              "#46039f"
             ],
             [
              0.2222222222222222,
              "#7201a8"
             ],
             [
              0.3333333333333333,
              "#9c179e"
             ],
             [
              0.4444444444444444,
              "#bd3786"
             ],
             [
              0.5555555555555556,
              "#d8576b"
             ],
             [
              0.6666666666666666,
              "#ed7953"
             ],
             [
              0.7777777777777778,
              "#fb9f3a"
             ],
             [
              0.8888888888888888,
              "#fdca26"
             ],
             [
              1,
              "#f0f921"
             ]
            ],
            "type": "contour"
           }
          ],
          "contourcarpet": [
           {
            "colorbar": {
             "outlinewidth": 0,
             "ticks": ""
            },
            "type": "contourcarpet"
           }
          ],
          "heatmap": [
           {
            "colorbar": {
             "outlinewidth": 0,
             "ticks": ""
            },
            "colorscale": [
             [
              0,
              "#0d0887"
             ],
             [
              0.1111111111111111,
              "#46039f"
             ],
             [
              0.2222222222222222,
              "#7201a8"
             ],
             [
              0.3333333333333333,
              "#9c179e"
             ],
             [
              0.4444444444444444,
              "#bd3786"
             ],
             [
              0.5555555555555556,
              "#d8576b"
             ],
             [
              0.6666666666666666,
              "#ed7953"
             ],
             [
              0.7777777777777778,
              "#fb9f3a"
             ],
             [
              0.8888888888888888,
              "#fdca26"
             ],
             [
              1,
              "#f0f921"
             ]
            ],
            "type": "heatmap"
           }
          ],
          "heatmapgl": [
           {
            "colorbar": {
             "outlinewidth": 0,
             "ticks": ""
            },
            "colorscale": [
             [
              0,
              "#0d0887"
             ],
             [
              0.1111111111111111,
              "#46039f"
             ],
             [
              0.2222222222222222,
              "#7201a8"
             ],
             [
              0.3333333333333333,
              "#9c179e"
             ],
             [
              0.4444444444444444,
              "#bd3786"
             ],
             [
              0.5555555555555556,
              "#d8576b"
             ],
             [
              0.6666666666666666,
              "#ed7953"
             ],
             [
              0.7777777777777778,
              "#fb9f3a"
             ],
             [
              0.8888888888888888,
              "#fdca26"
             ],
             [
              1,
              "#f0f921"
             ]
            ],
            "type": "heatmapgl"
           }
          ],
          "histogram": [
           {
            "marker": {
             "pattern": {
              "fillmode": "overlay",
              "size": 10,
              "solidity": 0.2
             }
            },
            "type": "histogram"
           }
          ],
          "histogram2d": [
           {
            "colorbar": {
             "outlinewidth": 0,
             "ticks": ""
            },
            "colorscale": [
             [
              0,
              "#0d0887"
             ],
             [
              0.1111111111111111,
              "#46039f"
             ],
             [
              0.2222222222222222,
              "#7201a8"
             ],
             [
              0.3333333333333333,
              "#9c179e"
             ],
             [
              0.4444444444444444,
              "#bd3786"
             ],
             [
              0.5555555555555556,
              "#d8576b"
             ],
             [
              0.6666666666666666,
              "#ed7953"
             ],
             [
              0.7777777777777778,
              "#fb9f3a"
             ],
             [
              0.8888888888888888,
              "#fdca26"
             ],
             [
              1,
              "#f0f921"
             ]
            ],
            "type": "histogram2d"
           }
          ],
          "histogram2dcontour": [
           {
            "colorbar": {
             "outlinewidth": 0,
             "ticks": ""
            },
            "colorscale": [
             [
              0,
              "#0d0887"
             ],
             [
              0.1111111111111111,
              "#46039f"
             ],
             [
              0.2222222222222222,
              "#7201a8"
             ],
             [
              0.3333333333333333,
              "#9c179e"
             ],
             [
              0.4444444444444444,
              "#bd3786"
             ],
             [
              0.5555555555555556,
              "#d8576b"
             ],
             [
              0.6666666666666666,
              "#ed7953"
             ],
             [
              0.7777777777777778,
              "#fb9f3a"
             ],
             [
              0.8888888888888888,
              "#fdca26"
             ],
             [
              1,
              "#f0f921"
             ]
            ],
            "type": "histogram2dcontour"
           }
          ],
          "mesh3d": [
           {
            "colorbar": {
             "outlinewidth": 0,
             "ticks": ""
            },
            "type": "mesh3d"
           }
          ],
          "parcoords": [
           {
            "line": {
             "colorbar": {
              "outlinewidth": 0,
              "ticks": ""
             }
            },
            "type": "parcoords"
           }
          ],
          "pie": [
           {
            "automargin": true,
            "type": "pie"
           }
          ],
          "scatter": [
           {
            "fillpattern": {
             "fillmode": "overlay",
             "size": 10,
             "solidity": 0.2
            },
            "type": "scatter"
           }
          ],
          "scatter3d": [
           {
            "line": {
             "colorbar": {
              "outlinewidth": 0,
              "ticks": ""
             }
            },
            "marker": {
             "colorbar": {
              "outlinewidth": 0,
              "ticks": ""
             }
            },
            "type": "scatter3d"
           }
          ],
          "scattercarpet": [
           {
            "marker": {
             "colorbar": {
              "outlinewidth": 0,
              "ticks": ""
             }
            },
            "type": "scattercarpet"
           }
          ],
          "scattergeo": [
           {
            "marker": {
             "colorbar": {
              "outlinewidth": 0,
              "ticks": ""
             }
            },
            "type": "scattergeo"
           }
          ],
          "scattergl": [
           {
            "marker": {
             "colorbar": {
              "outlinewidth": 0,
              "ticks": ""
             }
            },
            "type": "scattergl"
           }
          ],
          "scattermapbox": [
           {
            "marker": {
             "colorbar": {
              "outlinewidth": 0,
              "ticks": ""
             }
            },
            "type": "scattermapbox"
           }
          ],
          "scatterpolar": [
           {
            "marker": {
             "colorbar": {
              "outlinewidth": 0,
              "ticks": ""
             }
            },
            "type": "scatterpolar"
           }
          ],
          "scatterpolargl": [
           {
            "marker": {
             "colorbar": {
              "outlinewidth": 0,
              "ticks": ""
             }
            },
            "type": "scatterpolargl"
           }
          ],
          "scatterternary": [
           {
            "marker": {
             "colorbar": {
              "outlinewidth": 0,
              "ticks": ""
             }
            },
            "type": "scatterternary"
           }
          ],
          "surface": [
           {
            "colorbar": {
             "outlinewidth": 0,
             "ticks": ""
            },
            "colorscale": [
             [
              0,
              "#0d0887"
             ],
             [
              0.1111111111111111,
              "#46039f"
             ],
             [
              0.2222222222222222,
              "#7201a8"
             ],
             [
              0.3333333333333333,
              "#9c179e"
             ],
             [
              0.4444444444444444,
              "#bd3786"
             ],
             [
              0.5555555555555556,
              "#d8576b"
             ],
             [
              0.6666666666666666,
              "#ed7953"
             ],
             [
              0.7777777777777778,
              "#fb9f3a"
             ],
             [
              0.8888888888888888,
              "#fdca26"
             ],
             [
              1,
              "#f0f921"
             ]
            ],
            "type": "surface"
           }
          ],
          "table": [
           {
            "cells": {
             "fill": {
              "color": "#EBF0F8"
             },
             "line": {
              "color": "white"
             }
            },
            "header": {
             "fill": {
              "color": "#C8D4E3"
             },
             "line": {
              "color": "white"
             }
            },
            "type": "table"
           }
          ]
         },
         "layout": {
          "annotationdefaults": {
           "arrowcolor": "#2a3f5f",
           "arrowhead": 0,
           "arrowwidth": 1
          },
          "autotypenumbers": "strict",
          "coloraxis": {
           "colorbar": {
            "outlinewidth": 0,
            "ticks": ""
           }
          },
          "colorscale": {
           "diverging": [
            [
             0,
             "#8e0152"
            ],
            [
             0.1,
             "#c51b7d"
            ],
            [
             0.2,
             "#de77ae"
            ],
            [
             0.3,
             "#f1b6da"
            ],
            [
             0.4,
             "#fde0ef"
            ],
            [
             0.5,
             "#f7f7f7"
            ],
            [
             0.6,
             "#e6f5d0"
            ],
            [
             0.7,
             "#b8e186"
            ],
            [
             0.8,
             "#7fbc41"
            ],
            [
             0.9,
             "#4d9221"
            ],
            [
             1,
             "#276419"
            ]
           ],
           "sequential": [
            [
             0,
             "#0d0887"
            ],
            [
             0.1111111111111111,
             "#46039f"
            ],
            [
             0.2222222222222222,
             "#7201a8"
            ],
            [
             0.3333333333333333,
             "#9c179e"
            ],
            [
             0.4444444444444444,
             "#bd3786"
            ],
            [
             0.5555555555555556,
             "#d8576b"
            ],
            [
             0.6666666666666666,
             "#ed7953"
            ],
            [
             0.7777777777777778,
             "#fb9f3a"
            ],
            [
             0.8888888888888888,
             "#fdca26"
            ],
            [
             1,
             "#f0f921"
            ]
           ],
           "sequentialminus": [
            [
             0,
             "#0d0887"
            ],
            [
             0.1111111111111111,
             "#46039f"
            ],
            [
             0.2222222222222222,
             "#7201a8"
            ],
            [
             0.3333333333333333,
             "#9c179e"
            ],
            [
             0.4444444444444444,
             "#bd3786"
            ],
            [
             0.5555555555555556,
             "#d8576b"
            ],
            [
             0.6666666666666666,
             "#ed7953"
            ],
            [
             0.7777777777777778,
             "#fb9f3a"
            ],
            [
             0.8888888888888888,
             "#fdca26"
            ],
            [
             1,
             "#f0f921"
            ]
           ]
          },
          "colorway": [
           "#636efa",
           "#EF553B",
           "#00cc96",
           "#ab63fa",
           "#FFA15A",
           "#19d3f3",
           "#FF6692",
           "#B6E880",
           "#FF97FF",
           "#FECB52"
          ],
          "font": {
           "color": "#2a3f5f"
          },
          "geo": {
           "bgcolor": "white",
           "lakecolor": "white",
           "landcolor": "#E5ECF6",
           "showlakes": true,
           "showland": true,
           "subunitcolor": "white"
          },
          "hoverlabel": {
           "align": "left"
          },
          "hovermode": "closest",
          "mapbox": {
           "style": "light"
          },
          "paper_bgcolor": "white",
          "plot_bgcolor": "#E5ECF6",
          "polar": {
           "angularaxis": {
            "gridcolor": "white",
            "linecolor": "white",
            "ticks": ""
           },
           "bgcolor": "#E5ECF6",
           "radialaxis": {
            "gridcolor": "white",
            "linecolor": "white",
            "ticks": ""
           }
          },
          "scene": {
           "xaxis": {
            "backgroundcolor": "#E5ECF6",
            "gridcolor": "white",
            "gridwidth": 2,
            "linecolor": "white",
            "showbackground": true,
            "ticks": "",
            "zerolinecolor": "white"
           },
           "yaxis": {
            "backgroundcolor": "#E5ECF6",
            "gridcolor": "white",
            "gridwidth": 2,
            "linecolor": "white",
            "showbackground": true,
            "ticks": "",
            "zerolinecolor": "white"
           },
           "zaxis": {
            "backgroundcolor": "#E5ECF6",
            "gridcolor": "white",
            "gridwidth": 2,
            "linecolor": "white",
            "showbackground": true,
            "ticks": "",
            "zerolinecolor": "white"
           }
          },
          "shapedefaults": {
           "line": {
            "color": "#2a3f5f"
           }
          },
          "ternary": {
           "aaxis": {
            "gridcolor": "white",
            "linecolor": "white",
            "ticks": ""
           },
           "baxis": {
            "gridcolor": "white",
            "linecolor": "white",
            "ticks": ""
           },
           "bgcolor": "#E5ECF6",
           "caxis": {
            "gridcolor": "white",
            "linecolor": "white",
            "ticks": ""
           }
          },
          "title": {
           "x": 0.05
          },
          "xaxis": {
           "automargin": true,
           "gridcolor": "white",
           "linecolor": "white",
           "ticks": "",
           "title": {
            "standoff": 15
           },
           "zerolinecolor": "white",
           "zerolinewidth": 2
          },
          "yaxis": {
           "automargin": true,
           "gridcolor": "white",
           "linecolor": "white",
           "ticks": "",
           "title": {
            "standoff": 15
           },
           "zerolinecolor": "white",
           "zerolinewidth": 2
          }
         }
        },
        "title": {
         "text": "Correspondence Analysis Biplot",
         "x": 0.5
        },
        "width": 1600,
        "xaxis": {
         "range": [
          -0.7,
          0.7
         ],
         "tickmode": "array",
         "tickvals": [
          -0.8,
          -0.6,
          -0.4,
          -0.2,
          0,
          0.2,
          0.4,
          0.6,
          0.8
         ],
         "title": {
          "text": "Dimension 1"
         },
         "zeroline": true,
         "zerolinecolor": "black",
         "zerolinewidth": 1
        },
        "yaxis": {
         "range": [
          -0.3,
          0.3
         ],
         "title": {
          "text": "Dimension 2"
         },
         "zeroline": true,
         "zerolinecolor": "black",
         "zerolinewidth": 1
        }
       }
      }
     },
     "metadata": {},
     "output_type": "display_data"
    }
   ],
   "source": [
    "correspondence_analysis('category-country.xlsx')"
   ]
  },
  {
   "cell_type": "code",
   "execution_count": 9,
   "metadata": {},
   "outputs": [
    {
     "name": "stdout",
     "output_type": "stream",
     "text": [
      "Original Contingency table:\n",
      "                  female  male\n",
      "Category\\gender              \n",
      "Chemistry             7   182\n",
      "Economics             3    89\n",
      "Literature           17    99\n",
      "Medicine             13   214\n",
      "Peace                16    88\n",
      "Physics               5   220\n",
      "\n",
      "Total observations k = 953\n",
      "\n",
      "Frequency table:\n",
      "                  female    male     fi.\n",
      "Category\\gender                        \n",
      "Chemistry        0.0073  0.1910  0.1983\n",
      "Economics        0.0031  0.0934  0.0965\n",
      "Literature       0.0178  0.1039  0.1217\n",
      "Medicine         0.0136  0.2246  0.2382\n",
      "Peace            0.0168  0.0923  0.1091\n",
      "Physics          0.0052  0.2308  0.2361\n",
      "f.j              0.0640  0.9360  1.0000\n",
      "\n",
      "Row profile table:\n",
      "                  female    male     fi.\n",
      "Category\\gender                        \n",
      "Chemistry        0.0370  0.9630  0.1983\n",
      "Economics        0.0326  0.9674  0.0965\n",
      "Literature       0.1466  0.8534  0.1217\n",
      "Medicine         0.0573  0.9427  0.2382\n",
      "Peace            0.1538  0.8462  0.1091\n",
      "Physics          0.0222  0.9778  0.2361\n",
      "\n",
      "Column profile table:\n",
      "                  female    male\n",
      "Category\\gender                \n",
      "Chemistry        0.1148  0.2040\n",
      "Economics        0.0492  0.0998\n",
      "Literature       0.2787  0.1110\n",
      "Medicine         0.2131  0.2399\n",
      "Peace            0.2623  0.0987\n",
      "Physics          0.0820  0.2466\n",
      "f.j              0.0640  0.9360\n",
      "\n",
      "X:\n",
      " [[-0.0471  0.0123]\n",
      " [-0.0382  0.01  ]\n",
      " [ 0.1133 -0.0296]\n",
      " [-0.013   0.0034]\n",
      " [ 0.1173 -0.0307]\n",
      " [-0.0805  0.0211]]\n",
      "\n",
      "S:\n",
      " [[ 0.0369 -0.0097]\n",
      " [-0.0097  0.0025]]\n",
      "\n",
      "The eigenvalues: [ 3.94466453e-02 -4.66452847e-05]\n",
      "\n",
      "The eigenvectors:\n",
      " [[ 0.96722129  0.253935  ]\n",
      " [-0.253935    0.96722129]]\n",
      "\n",
      "The sorted eigenvalues: [0.03944665]\n",
      "\n",
      "The sorted eigenvectors:\n",
      " [[ 0.967]\n",
      " [-0.254]]\n",
      "\n",
      "Cik:\n",
      " [[-0.0487]\n",
      " [-0.0395]\n",
      " [ 0.1171]\n",
      " [-0.0134]\n",
      " [ 0.1213]\n",
      " [-0.0832]]\n",
      "\n",
      "Cjk:\n",
      " [[ 0.1921]\n",
      " [-0.0504]]\n"
     ]
    },
    {
     "ename": "IndexError",
     "evalue": "index 1 is out of bounds for axis 1 with size 1",
     "output_type": "error",
     "traceback": [
      "\u001b[1;31m---------------------------------------------------------------------------\u001b[0m",
      "\u001b[1;31mIndexError\u001b[0m                                Traceback (most recent call last)",
      "Cell \u001b[1;32mIn[9], line 1\u001b[0m\n\u001b[1;32m----> 1\u001b[0m \u001b[43mcorrespondence_analysis\u001b[49m\u001b[43m(\u001b[49m\u001b[38;5;124;43m'\u001b[39;49m\u001b[38;5;124;43mcategory-gender.xlsx\u001b[39;49m\u001b[38;5;124;43m'\u001b[39;49m\u001b[43m)\u001b[49m\n",
      "Cell \u001b[1;32mIn[7], line 71\u001b[0m, in \u001b[0;36mcorrespondence_analysis\u001b[1;34m(excel_path)\u001b[0m\n\u001b[0;32m     66\u001b[0m col_labels \u001b[38;5;241m=\u001b[39m data\u001b[38;5;241m.\u001b[39mcolumns\u001b[38;5;241m.\u001b[39mtolist()\n\u001b[0;32m     68\u001b[0m fig \u001b[38;5;241m=\u001b[39m go\u001b[38;5;241m.\u001b[39mFigure()\n\u001b[0;32m     70\u001b[0m fig\u001b[38;5;241m.\u001b[39madd_trace(go\u001b[38;5;241m.\u001b[39mScatter(\n\u001b[1;32m---> 71\u001b[0m     x\u001b[38;5;241m=\u001b[39mCik[:,\u001b[38;5;241m0\u001b[39m], y\u001b[38;5;241m=\u001b[39m\u001b[43mCik\u001b[49m\u001b[43m[\u001b[49m\u001b[43m:\u001b[49m\u001b[43m,\u001b[49m\u001b[38;5;241;43m1\u001b[39;49m\u001b[43m]\u001b[49m,\n\u001b[0;32m     72\u001b[0m     mode \u001b[38;5;241m=\u001b[39m\u001b[38;5;124m'\u001b[39m\u001b[38;5;124mmarkers+text\u001b[39m\u001b[38;5;124m'\u001b[39m,\n\u001b[0;32m     73\u001b[0m     marker\u001b[38;5;241m=\u001b[39m \u001b[38;5;28mdict\u001b[39m(size\u001b[38;5;241m=\u001b[39m\u001b[38;5;241m10\u001b[39m,color \u001b[38;5;241m=\u001b[39m \u001b[38;5;124m'\u001b[39m\u001b[38;5;124mblue\u001b[39m\u001b[38;5;124m'\u001b[39m),\n\u001b[0;32m     74\u001b[0m     text\u001b[38;5;241m=\u001b[39mrow_labels,\n\u001b[0;32m     75\u001b[0m     textposition\u001b[38;5;241m=\u001b[39m\u001b[38;5;124m'\u001b[39m\u001b[38;5;124mtop center\u001b[39m\u001b[38;5;124m'\u001b[39m,\n\u001b[0;32m     76\u001b[0m     name\u001b[38;5;241m=\u001b[39m\u001b[38;5;124m\"\u001b[39m\u001b[38;5;124mRow Profiles\u001b[39m\u001b[38;5;124m\"\u001b[39m\n\u001b[0;32m     77\u001b[0m ))\n\u001b[0;32m     79\u001b[0m fig\u001b[38;5;241m.\u001b[39madd_trace(go\u001b[38;5;241m.\u001b[39mScatter(\n\u001b[0;32m     80\u001b[0m     x\u001b[38;5;241m=\u001b[39mCjk[:,\u001b[38;5;241m0\u001b[39m],y\u001b[38;5;241m=\u001b[39mCjk[:,\u001b[38;5;241m1\u001b[39m],\n\u001b[0;32m     81\u001b[0m     mode\u001b[38;5;241m=\u001b[39m\u001b[38;5;124m'\u001b[39m\u001b[38;5;124mmarkers+text\u001b[39m\u001b[38;5;124m'\u001b[39m,\n\u001b[1;32m   (...)\u001b[0m\n\u001b[0;32m     85\u001b[0m     name\u001b[38;5;241m=\u001b[39m\u001b[38;5;124m\"\u001b[39m\u001b[38;5;124mColumn Profiles\u001b[39m\u001b[38;5;124m\"\u001b[39m\n\u001b[0;32m     86\u001b[0m ))\n\u001b[0;32m     88\u001b[0m fig\u001b[38;5;241m.\u001b[39madd_shape(\n\u001b[0;32m     89\u001b[0m     \u001b[38;5;28mtype\u001b[39m\u001b[38;5;241m=\u001b[39m\u001b[38;5;124m\"\u001b[39m\u001b[38;5;124mline\u001b[39m\u001b[38;5;124m\"\u001b[39m,\n\u001b[0;32m     90\u001b[0m     x0\u001b[38;5;241m=\u001b[39m\u001b[38;5;241m-\u001b[39m\u001b[38;5;241m0.7\u001b[39m,y0\u001b[38;5;241m=\u001b[39m\u001b[38;5;241m0\u001b[39m, x1\u001b[38;5;241m=\u001b[39m\u001b[38;5;241m0.7\u001b[39m,y1\u001b[38;5;241m=\u001b[39m\u001b[38;5;241m0\u001b[39m,\n\u001b[0;32m     91\u001b[0m     line\u001b[38;5;241m=\u001b[39m\u001b[38;5;28mdict\u001b[39m(color\u001b[38;5;241m=\u001b[39m\u001b[38;5;124m'\u001b[39m\u001b[38;5;124mgrey\u001b[39m\u001b[38;5;124m'\u001b[39m,width\u001b[38;5;241m=\u001b[39m\u001b[38;5;241m1\u001b[39m,dash\u001b[38;5;241m=\u001b[39m\u001b[38;5;124m'\u001b[39m\u001b[38;5;124mdash\u001b[39m\u001b[38;5;124m'\u001b[39m),\n\u001b[0;32m     92\u001b[0m     layer\u001b[38;5;241m=\u001b[39m\u001b[38;5;124m'\u001b[39m\u001b[38;5;124mbelow\u001b[39m\u001b[38;5;124m'\u001b[39m\n\u001b[0;32m     93\u001b[0m )\n",
      "\u001b[1;31mIndexError\u001b[0m: index 1 is out of bounds for axis 1 with size 1"
     ]
    }
   ],
   "source": [
    "correspondence_analysis('category-gender.xlsx')"
   ]
  }
 ],
 "metadata": {
  "kernelspec": {
   "display_name": "Python 3",
   "language": "python",
   "name": "python3"
  },
  "language_info": {
   "codemirror_mode": {
    "name": "ipython",
    "version": 3
   },
   "file_extension": ".py",
   "mimetype": "text/x-python",
   "name": "python",
   "nbconvert_exporter": "python",
   "pygments_lexer": "ipython3",
   "version": "3.13.2"
  }
 },
 "nbformat": 4,
 "nbformat_minor": 2
}
